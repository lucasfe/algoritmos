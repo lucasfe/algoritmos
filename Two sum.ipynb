{
 "cells": [
  {
   "cell_type": "code",
   "execution_count": 32,
   "metadata": {},
   "outputs": [
    {
     "name": "stdout",
     "output_type": "stream",
     "text": [
      "[1, 1, 2, 3, 4, 4, 7, 8, 9]\n"
     ]
    }
   ],
   "source": [
    "numbers = [4,1,7,9,8,1,2,3,4]\n",
    "numbers.sort()\n",
    "print(numbers)\n",
    "start = 0\n",
    "end = len(numbers) - 1\n",
    "target = 12"
   ]
  },
  {
   "cell_type": "code",
   "execution_count": 36,
   "metadata": {},
   "outputs": [
    {
     "name": "stdout",
     "output_type": "stream",
     "text": [
      "start is 3 end is 8 sum is 12 target is 12\n",
      "Two sums for target 12 is numbers[3] and numbers[8] on [1, 1, 2, 3, 4, 4, 7, 8, 9]\n"
     ]
    }
   ],
   "source": [
    "while (start < end):\n",
    "    conta = sum([numbers[start], numbers[end]])\n",
    "    print(\"start is {start} end is {end} sum is {conta} target is {target}\".format(conta=conta, start=start, end=end, target=target))\n",
    "    if  conta < target:\n",
    "        start += 1\n",
    "    elif conta > target:\n",
    "        end += -1\n",
    "    else:\n",
    "        print \"Two sums for target {target} is numbers[{start}] and numbers[{end}] on {numbers}\".format(start=start, end=end, target=target, numbers=numbers) \n",
    "        break\n"
   ]
  },
  {
   "cell_type": "code",
   "execution_count": null,
   "metadata": {},
   "outputs": [],
   "source": []
  },
  {
   "cell_type": "code",
   "execution_count": null,
   "metadata": {},
   "outputs": [],
   "source": []
  }
 ],
 "metadata": {
  "kernelspec": {
   "display_name": "Python 2",
   "language": "python",
   "name": "python2"
  },
  "language_info": {
   "codemirror_mode": {
    "name": "ipython",
    "version": 2
   },
   "file_extension": ".py",
   "mimetype": "text/x-python",
   "name": "python",
   "nbconvert_exporter": "python",
   "pygments_lexer": "ipython2",
   "version": "2.7.15"
  }
 },
 "nbformat": 4,
 "nbformat_minor": 2
}
